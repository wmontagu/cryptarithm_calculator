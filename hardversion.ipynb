{
 "cells": [
  {
   "cell_type": "code",
   "execution_count": 16,
   "id": "355589cc",
   "metadata": {},
   "outputs": [],
   "source": [
    "import numpy as np\n",
    "import pandas as pd\n",
    "from sklearn.ensemble import RandomForestClassifier\n",
    "from sklearn.model_selection import train_test_split\n",
    "from sklearn.metrics import classification_report, confusion_matrix\n",
    "import itertools\n",
    "import time\n",
    "from collections import Counter\n",
    "def make_features(str1, str2, equal, operation):\n",
    "\n",
    "    # Lots of features that may be important, think about adding more specific cases, same leading or tailing chars? \n",
    "    # These are the basic ones tho\n",
    "    features = {}\n",
    "\n",
    "    features['str1 len'] = len(str1)\n",
    "    features['str2 len'] = len(str2)\n",
    "    features['equal len'] = len(equal)\n",
    "\n",
    "    features['all len'] = features['str1 len'] + features['str2 len'] + features['equal len']\n",
    "\n",
    "    overallCount = Counter(str1 + str2 + equal)\n",
    "    features['unique char'] = len(overallCount)\n",
    "    features['max occurences'] = max(overallCount.values())\n",
    "    features['min occurences'] = min(overallCount.values())\n",
    "\n",
    "    features['reuse ratio'] = len(str1 + str2 + equal) / len(overallCount) if overallCount != 0 else 0\n",
    "    \n",
    "    if operation == '+':\n",
    "        features['operation'] = '+'\n",
    "    elif operation == '*':\n",
    "        features['operation'] = '*'\n",
    "    elif operation == '/':\n",
    "        features['operation'] = '/'\n",
    "    else:\n",
    "        features['operation'] = '*'\n",
    "    \n",
    "    str1Count = Counter(str1)\n",
    "    str2Count = Counter(str2)\n",
    "    equalCount = Counter(equal)\n",
    "    sumCount = Counter(str1 + str2)\n",
    "\n",
    "    features['unique str1 char'] = len(str1Count)\n",
    "    features['unique str2 char'] = len(str2Count)\n",
    "    features['unique equal char'] = len(str2Count)\n",
    "    features['unique 1+2 char'] = len(sumCount)\n",
    "\n",
    "\n",
    "    features['max str1 occurences'] = max(str1Count.values())\n",
    "    features['min str1 occurences'] = min(str1Count.values())\n",
    "\n",
    "    features['max str2 occurences'] = max(str2Count.values())\n",
    "    features['min str2 occurences'] = min(str2Count.values())\n",
    "    features['max equal occurences'] = max(equalCount.values())\n",
    "    features['min equal occurences'] = min(equalCount.values())\n",
    "\n",
    "    features['max 1+2 occurences'] = max(sumCount.values())\n",
    "    features['min 1+2 occurences'] = min(sumCount.values())\n",
    "\n",
    "    features['crypto complexity'] = features['all len'] * features['unique char']\n",
    "    print(features)\n",
    "\n",
    "    return features\n",
    "    \n"
   ]
  },
  {
   "cell_type": "code",
   "execution_count": 17,
   "id": "5f22ffd0",
   "metadata": {},
   "outputs": [],
   "source": [
    "def generate_training_data(num_samples=5000):\n",
    "    # Need to some how create synthetic training data.\n",
    "    data = []\n",
    "    labels = []\n",
    "    \n",
    "    valid_puzzles = [\n",
    "        (\"SEND\", \"MORE\", \"MONEY\", \"+\"),\n",
    "        (\"TWO\", \"TWO\", \"FOUR\", \"+\"),\n",
    "        (\"ABC\", \"DEF\", \"GHIJ\", \"+\"),\n",
    "        (\"CAB\", \"CAB\", \"DEED\", \"+\"),\n",
    "        (\"EAT\", \"THAT\", \"APPLE\", \"+\"),\n",
    "    ]\n",
    "    \n",
    "    for str1, str2, result, op in valid_puzzles:\n",
    "        features = make_features(str1, str2, result, op)\n",
    "        data.append(features)\n",
    "        labels.append(1)\n",
    "    \n",
    "    \n",
    "    operations = ['+', '-', '*', '/']\n",
    "\n",
    "    \n",
    "    "
   ]
  },
  {
   "cell_type": "code",
   "execution_count": 18,
   "id": "a514d840",
   "metadata": {},
   "outputs": [
    {
     "name": "stdout",
     "output_type": "stream",
     "text": [
      "{'str1 len': 1, 'str2 len': 4, 'equal len': 3, 'all len': 8, 'unique char': 7, 'max occurences': 2, 'min occurences': 1, 'reuse ratio': 1.1428571428571428, 'operation': '+', 'unique str1 char': 1, 'unique str2 char': 4, 'unique equal char': 4, 'unique 1+2 char': 5, 'max str1 occurences': 1, 'min str1 occurences': 1, 'max str2 occurences': 1, 'min str2 occurences': 1, 'max equal occurences': 1, 'min equal occurences': 1, 'max 1+2 occurences': 1, 'min 1+2 occurences': 1, 'crypto complexity': 56}\n"
     ]
    },
    {
     "data": {
      "text/plain": [
       "{'str1 len': 1,\n",
       " 'str2 len': 4,\n",
       " 'equal len': 3,\n",
       " 'all len': 8,\n",
       " 'unique char': 7,\n",
       " 'max occurences': 2,\n",
       " 'min occurences': 1,\n",
       " 'reuse ratio': 1.1428571428571428,\n",
       " 'operation': '+',\n",
       " 'unique str1 char': 1,\n",
       " 'unique str2 char': 4,\n",
       " 'unique equal char': 4,\n",
       " 'unique 1+2 char': 5,\n",
       " 'max str1 occurences': 1,\n",
       " 'min str1 occurences': 1,\n",
       " 'max str2 occurences': 1,\n",
       " 'min str2 occurences': 1,\n",
       " 'max equal occurences': 1,\n",
       " 'min equal occurences': 1,\n",
       " 'max 1+2 occurences': 1,\n",
       " 'min 1+2 occurences': 1,\n",
       " 'crypto complexity': 56}"
      ]
     },
     "execution_count": 18,
     "metadata": {},
     "output_type": "execute_result"
    }
   ],
   "source": [
    "make_features(\"I\", \"Love\", \"You\", '+')"
   ]
  }
 ],
 "metadata": {
  "kernelspec": {
   "display_name": "Python 3",
   "language": "python",
   "name": "python3"
  },
  "language_info": {
   "codemirror_mode": {
    "name": "ipython",
    "version": 3
   },
   "file_extension": ".py",
   "mimetype": "text/x-python",
   "name": "python",
   "nbconvert_exporter": "python",
   "pygments_lexer": "ipython3",
   "version": "3.11.5"
  }
 },
 "nbformat": 4,
 "nbformat_minor": 5
}
